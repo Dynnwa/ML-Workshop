{
 "cells": [
  {
   "cell_type": "code",
   "execution_count": 200,
   "id": "467d47ac-0f0e-4ff4-a55c-243f50c3572a",
   "metadata": {},
   "outputs": [],
   "source": [
    "from sklearn import datasets\n",
    "from sklearn.compose import ColumnTransformer, make_column_transformer\n",
    "import pandas as pd\n",
    "from sklearn.linear_model import LogisticRegression\n",
    "from sklearn.metrics import (\n",
    "    classification_report,\n",
    "    confusion_matrix,\n",
    "    f1_score,\n",
    "    make_scorer,\n",
    "    plot_confusion_matrix,\n",
    "    accuracy_score,\n",
    ")\n",
    "from sklearn.model_selection import (\n",
    "    GridSearchCV,\n",
    "    RandomizedSearchCV,\n",
    "    cross_val_score,\n",
    "    cross_validate,\n",
    "    train_test_split,\n",
    ")\n",
    "from sklearn.pipeline import Pipeline, make_pipeline\n",
    "from sklearn.preprocessing import OneHotEncoder, OrdinalEncoder, StandardScaler\n",
    "from sklearn.svm import SVC\n",
    "\n",
    "from sklearn.dummy import DummyClassifier\n",
    "from sklearn.ensemble import RandomForestClassifier\n",
    "\n",
    "import numpy as np\n",
    "\n",
    "from sklearn.tree import DecisionTreeClassifier\n",
    "\n",
    "%matplotlib inline\n",
    "import sys\n",
    "\n",
    "import matplotlib.pyplot as plt\n",
    "\n",
    "from sklearn.metrics import roc_curve\n",
    "from sklearn.metrics import roc_auc_score"
   ]
  },
  {
   "cell_type": "code",
   "execution_count": 201,
   "id": "ea74af7c-406f-43f3-8197-659257d006c0",
   "metadata": {},
   "outputs": [],
   "source": [
    "train_df = pd.read_csv(\"titanic_training.csv\")\n",
    "test = pd.read_csv(\"titanic_test_data.csv\")"
   ]
  },
  {
   "cell_type": "code",
   "execution_count": 202,
   "id": "da8fd913-7841-462c-9d99-822cd54f12f2",
   "metadata": {},
   "outputs": [
    {
     "name": "stdout",
     "output_type": "stream",
     "text": [
      "     Age Embarked  Parch  PassengerId  Pclass     Sex  SibSp  Survived  \\\n",
      "0  40.50        Q      0            1       3    male      0         0   \n",
      "1  22.00        Q      0            2       3  female      0         1   \n",
      "2   0.83        S      1            3       2    male      1         1   \n",
      "3   4.00        S      1            4       3    male      3         0   \n",
      "4  30.00        Q      0            5       3    male      1         0   \n",
      "\n",
      "    Title  Family_Size  \n",
      "0      Mr            0  \n",
      "1    Miss            0  \n",
      "2  Master            2  \n",
      "3  Master            4  \n",
      "4      Mr            1  \n"
     ]
    }
   ],
   "source": [
    "train_df = train_df.drop(columns=[\"Name\", \"Fare\", \"Ticket\"])\n",
    "print(train_df.head())"
   ]
  },
  {
   "cell_type": "code",
   "execution_count": 203,
   "id": "23673c7d-17c2-449d-adf0-bbd2a10f49fe",
   "metadata": {},
   "outputs": [],
   "source": [
    "X_train, y_train = (train_df.drop(columns=[\"Survived\"]),\n",
    "                   train_df[\"Survived\"])"
   ]
  },
  {
   "cell_type": "code",
   "execution_count": 204,
   "id": "ca5b6e1e-5169-4707-917c-d75c84faac61",
   "metadata": {},
   "outputs": [],
   "source": [
    "numeric_feats = [   # specify numeric feats \n",
    "    \"Age\", \n",
    "    \"Pclass\",\n",
    "    \"Family_Size\",\n",
    "]\n",
    "\n",
    "cat_feat = [\"Embarked\", \"Sex\", \"Title\"] # specify categorical features"
   ]
  },
  {
   "cell_type": "code",
   "execution_count": 205,
   "id": "80289224-56a1-42f6-992b-1ce1fff7bd56",
   "metadata": {},
   "outputs": [],
   "source": [
    "ct = make_column_transformer(\n",
    "    \n",
    "      (\n",
    "        StandardScaler(),\n",
    "        numeric_feats,\n",
    "      ),  \n",
    "    (\n",
    "        OneHotEncoder(handle_unknown=\"ignore\"),\n",
    "        cat_feat,\n",
    "    ),  \n",
    "    \n",
    ")"
   ]
  },
  {
   "cell_type": "code",
   "execution_count": 206,
   "id": "ee9ef071-72ee-462d-92a4-2b25325fe71b",
   "metadata": {},
   "outputs": [],
   "source": [
    "pipe_lr = make_pipeline(\n",
    "    ct,\n",
    "    LogisticRegression(max_iter = 10000)\n",
    ") "
   ]
  },
  {
   "cell_type": "code",
   "execution_count": 207,
   "id": "05d627f6-9639-493c-9ec4-1cdad4a2c7a6",
   "metadata": {},
   "outputs": [
    {
     "data": {
      "text/html": [
       "<div>\n",
       "<style scoped>\n",
       "    .dataframe tbody tr th:only-of-type {\n",
       "        vertical-align: middle;\n",
       "    }\n",
       "\n",
       "    .dataframe tbody tr th {\n",
       "        vertical-align: top;\n",
       "    }\n",
       "\n",
       "    .dataframe thead th {\n",
       "        text-align: right;\n",
       "    }\n",
       "</style>\n",
       "<table border=\"1\" class=\"dataframe\">\n",
       "  <thead>\n",
       "    <tr style=\"text-align: right;\">\n",
       "      <th></th>\n",
       "      <th>C</th>\n",
       "      <th>Train Scores</th>\n",
       "      <th>CV Scores</th>\n",
       "    </tr>\n",
       "  </thead>\n",
       "  <tbody>\n",
       "    <tr>\n",
       "      <th>0</th>\n",
       "      <td>0.031623</td>\n",
       "      <td>0.816975</td>\n",
       "      <td>0.812105</td>\n",
       "    </tr>\n",
       "    <tr>\n",
       "      <th>1</th>\n",
       "      <td>0.100000</td>\n",
       "      <td>0.820132</td>\n",
       "      <td>0.817768</td>\n",
       "    </tr>\n",
       "    <tr>\n",
       "      <th>2</th>\n",
       "      <td>0.316228</td>\n",
       "      <td>0.826442</td>\n",
       "      <td>0.827578</td>\n",
       "    </tr>\n",
       "    <tr>\n",
       "      <th>3</th>\n",
       "      <td>1.000000</td>\n",
       "      <td>0.831702</td>\n",
       "      <td>0.834591</td>\n",
       "    </tr>\n",
       "    <tr>\n",
       "      <th>4</th>\n",
       "      <td>3.162278</td>\n",
       "      <td>0.832402</td>\n",
       "      <td>0.831774</td>\n",
       "    </tr>\n",
       "    <tr>\n",
       "      <th>5</th>\n",
       "      <td>10.000000</td>\n",
       "      <td>0.832053</td>\n",
       "      <td>0.828967</td>\n",
       "    </tr>\n",
       "    <tr>\n",
       "      <th>6</th>\n",
       "      <td>31.622777</td>\n",
       "      <td>0.831702</td>\n",
       "      <td>0.828967</td>\n",
       "    </tr>\n",
       "  </tbody>\n",
       "</table>\n",
       "</div>"
      ],
      "text/plain": [
       "           C  Train Scores  CV Scores\n",
       "0   0.031623      0.816975   0.812105\n",
       "1   0.100000      0.820132   0.817768\n",
       "2   0.316228      0.826442   0.827578\n",
       "3   1.000000      0.831702   0.834591\n",
       "4   3.162278      0.832402   0.831774\n",
       "5  10.000000      0.832053   0.828967\n",
       "6  31.622777      0.831702   0.828967"
      ]
     },
     "execution_count": 207,
     "metadata": {},
     "output_type": "execute_result"
    }
   ],
   "source": [
    "train_scores = []\n",
    "cv_scores = []\n",
    "\n",
    "C = 10.0 ** np.arange(-1.5, 2, 0.5)\n",
    "\n",
    "for c in C:\n",
    "    \n",
    "    pipe_lr = make_pipeline(\n",
    "    ct, \n",
    "    LogisticRegression(max_iter=1000, C=c),\n",
    "    )\n",
    "    \n",
    "    results = cross_validate(pipe_lr, X_train, y_train, return_train_score=True)\n",
    "    \n",
    "    train_scores.append(results[\"train_score\"].mean())\n",
    "    cv_scores.append(results[\"test_score\"].mean())\n",
    "    \n",
    "scores = pd.DataFrame({\"C\": C, \"Train Scores\": train_scores, \"CV Scores\": cv_scores })\n",
    "\n",
    "scores"
   ]
  },
  {
   "cell_type": "code",
   "execution_count": 208,
   "id": "556838ce-88af-4bb5-b526-df126a684ad5",
   "metadata": {},
   "outputs": [
    {
     "data": {
      "text/plain": [
       "Pipeline(steps=[('columntransformer',\n",
       "                 ColumnTransformer(transformers=[('standardscaler',\n",
       "                                                  StandardScaler(),\n",
       "                                                  ['Age', 'Pclass',\n",
       "                                                   'Family_Size']),\n",
       "                                                 ('onehotencoder',\n",
       "                                                  OneHotEncoder(handle_unknown='ignore'),\n",
       "                                                  ['Embarked', 'Sex',\n",
       "                                                   'Title'])])),\n",
       "                ('logisticregression', LogisticRegression(C=1, max_iter=1000))])"
      ]
     },
     "execution_count": 208,
     "metadata": {},
     "output_type": "execute_result"
    }
   ],
   "source": [
    "model = make_pipeline(\n",
    "    ct, \n",
    "    LogisticRegression(max_iter=1000, C=1),\n",
    "    )\n",
    "\n",
    "model.fit(X_train, y_train)"
   ]
  },
  {
   "cell_type": "code",
   "execution_count": null,
   "id": "f158553c-cfb6-41d3-9e90-188eca70b1db",
   "metadata": {},
   "outputs": [],
   "source": []
  },
  {
   "cell_type": "code",
   "execution_count": 209,
   "id": "b41dbbe6-30dc-4ec6-9cf0-c9d6b7bdc102",
   "metadata": {},
   "outputs": [],
   "source": [
    "#lr_prob = model.predict_proba(X_test)[:,1]\n",
    "#roc_lr = roc_auc_score(y_test, lr_prob)\n"
   ]
  },
  {
   "cell_type": "code",
   "execution_count": 210,
   "id": "3145d6cd-f98e-4339-9b58-09615dbd560d",
   "metadata": {},
   "outputs": [
    {
     "name": "stdout",
     "output_type": "stream",
     "text": [
      "[0 1]\n"
     ]
    }
   ],
   "source": [
    "print(model.classes_)"
   ]
  },
  {
   "cell_type": "code",
   "execution_count": 211,
   "id": "a23434ac-9f47-4df3-bf61-86a3ae36768c",
   "metadata": {},
   "outputs": [],
   "source": [
    "input = test"
   ]
  },
  {
   "cell_type": "code",
   "execution_count": 212,
   "id": "6a761f8d-561c-4762-aeed-71d56f2d0a73",
   "metadata": {},
   "outputs": [
    {
     "data": {
      "text/plain": [
       "array([0, 1, 0, 0, 0, 1, 0, 0, 0, 1, 0, 0, 1, 0, 0, 0, 1, 0, 0, 0, 0, 1,\n",
       "       0, 1, 0, 0, 1, 0, 0, 0, 0, 0, 0, 1, 0, 0, 0, 0, 0, 1, 0, 1, 0, 0,\n",
       "       1, 0, 1, 0, 0, 0, 1, 0, 0, 1, 1, 0, 1, 0, 0, 1, 0, 0, 1, 0, 0, 1,\n",
       "       0, 0, 0, 0, 0, 1, 0, 1, 1, 1, 0, 0, 0, 0, 0, 0, 1, 1, 1, 0, 0, 1,\n",
       "       0, 1, 1, 0, 0, 1, 1, 1, 0, 1, 0, 0, 0, 1, 0, 0, 0, 0, 0, 0, 0, 0,\n",
       "       0, 1, 0, 0, 0, 1, 0, 1, 0, 0, 0, 1, 0, 0, 0, 0, 0, 1, 1, 1, 0, 0,\n",
       "       0, 0, 1, 0, 0, 0, 0, 0, 0, 0, 0, 1, 0, 0, 1, 0, 0, 0, 0, 0, 0, 1,\n",
       "       1, 0, 0, 1, 1, 0, 1, 0, 0, 1, 0, 0, 0, 0, 0, 1, 1, 1, 0, 0, 1, 0,\n",
       "       0, 1])"
      ]
     },
     "execution_count": 212,
     "metadata": {},
     "output_type": "execute_result"
    }
   ],
   "source": [
    "model.predict(test)"
   ]
  },
  {
   "cell_type": "code",
   "execution_count": 213,
   "id": "9ca6dac0-fbf6-4e45-850d-54859d2d915c",
   "metadata": {},
   "outputs": [],
   "source": [
    "predict = model.predict(test)"
   ]
  },
  {
   "cell_type": "code",
   "execution_count": 214,
   "id": "08409248-410c-4dcd-96df-381950750cf8",
   "metadata": {},
   "outputs": [],
   "source": [
    "submission = pd.DataFrame({ \"PassengerId\": test[\"PassengerId\"], \"Survived\": predict }) \n",
    "submission.to_csv('submission.csv', index=False)\n",
    "\n"
   ]
  },
  {
   "cell_type": "code",
   "execution_count": null,
   "id": "9b9e7e84-62f3-44f4-b006-000bc700fc3e",
   "metadata": {},
   "outputs": [],
   "source": []
  }
 ],
 "metadata": {
  "kernelspec": {
   "display_name": "Python 3 (ipykernel)",
   "language": "python",
   "name": "python3"
  },
  "language_info": {
   "codemirror_mode": {
    "name": "ipython",
    "version": 3
   },
   "file_extension": ".py",
   "mimetype": "text/x-python",
   "name": "python",
   "nbconvert_exporter": "python",
   "pygments_lexer": "ipython3",
   "version": "3.9.7"
  }
 },
 "nbformat": 4,
 "nbformat_minor": 5
}
